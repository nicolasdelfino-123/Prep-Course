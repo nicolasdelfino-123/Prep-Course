{
  "nbformat": 4,
  "nbformat_minor": 0,
  "metadata": {
    "colab": {
      "provenance": [],
      "authorship_tag": "ABX9TyNj2jMh/bG92RI5y+z7TssU",
      "include_colab_link": true
    },
    "kernelspec": {
      "name": "python3",
      "display_name": "Python 3"
    },
    "language_info": {
      "name": "python"
    }
  },
  "cells": [
    {
      "cell_type": "markdown",
      "metadata": {
        "id": "view-in-github",
        "colab_type": "text"
      },
      "source": [
        "<a href=\"https://colab.research.google.com/github/nicolasdelfino-123/Prep-Course/blob/main/Ejercico3.ipynb\" target=\"_parent\"><img src=\"https://colab.research.google.com/assets/colab-badge.svg\" alt=\"Open In Colab\"/></a>"
      ]
    },
    {
      "cell_type": "markdown",
      "source": [
        "\n",
        "Escribe un programa en la consola de python que pida al usuario su peso (en kg) y estatura (en metros), calcule el índice de masa corporal y lo almacene en una variable, e imprima por pantalla la frase Tu índice de masa corporal es donde es el índice de masa corporal calculado redondeado con dos decimales. Tienes que subir capturas de pantalla en una carpeta comprimida zip."
      ],
      "metadata": {
        "id": "mMKouIvc22dr"
      }
    },
    {
      "cell_type": "code",
      "source": [
        "peso = float(input(\"Por favor ingresa tu peso en kilogramos: \"))\n",
        "estatura = float(input(\"Por favor ingresa tu estatura en metros: \"))"
      ],
      "metadata": {
        "colab": {
          "base_uri": "https://localhost:8080/"
        },
        "id": "JfYLEfhq23OM",
        "outputId": "09a7c34e-2bea-443c-d94f-e92893d21435"
      },
      "execution_count": null,
      "outputs": [
        {
          "name": "stdout",
          "output_type": "stream",
          "text": [
            "Por favor ingresa tu peso en kilogramos: 110\n",
            "Por favor ingresa tu estatura en metros: 1.94\n"
          ]
        }
      ]
    },
    {
      "cell_type": "code",
      "source": [
        "imc = peso / estatura ** 2"
      ],
      "metadata": {
        "id": "qh2gKcDA3vt4"
      },
      "execution_count": null,
      "outputs": []
    },
    {
      "cell_type": "code",
      "source": [
        "imc"
      ],
      "metadata": {
        "colab": {
          "base_uri": "https://localhost:8080/"
        },
        "id": "uqaTg2li4WCn",
        "outputId": "c47e99f4-0b4f-4f48-f17a-2e92219b96cd"
      },
      "execution_count": null,
      "outputs": [
        {
          "output_type": "execute_result",
          "data": {
            "text/plain": [
              "29.227335529811885"
            ]
          },
          "metadata": {},
          "execution_count": 9
        }
      ]
    },
    {
      "cell_type": "code",
      "source": [
        "imc_redondeado = round(imc,2)"
      ],
      "metadata": {
        "id": "RYIRh_NG4c5t"
      },
      "execution_count": null,
      "outputs": []
    },
    {
      "cell_type": "code",
      "source": [
        "print (\"Tu índice de masa corporal es: \", imc_redondeado)"
      ],
      "metadata": {
        "colab": {
          "base_uri": "https://localhost:8080/"
        },
        "id": "NXXDdT5O4_5t",
        "outputId": "8cefb63f-adbd-46d5-8e80-df4a68634307"
      },
      "execution_count": null,
      "outputs": [
        {
          "output_type": "stream",
          "name": "stdout",
          "text": [
            "Tu índice de masa corporal es:  29.23\n"
          ]
        }
      ]
    }
  ]
}